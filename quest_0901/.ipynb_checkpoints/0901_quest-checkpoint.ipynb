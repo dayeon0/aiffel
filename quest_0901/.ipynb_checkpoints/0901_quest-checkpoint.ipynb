{
 "cells": [
  {
   "cell_type": "markdown",
   "id": "114b3164",
   "metadata": {},
   "source": [
    "# 11-1. 프로젝트: 어떤 예측 모형이 차량 수요 예측에 가장 적합할까?"
   ]
  },
  {
   "cell_type": "markdown",
   "id": "3e08a18d",
   "metadata": {},
   "source": [
    "## import"
   ]
  },
  {
   "cell_type": "code",
   "execution_count": 2,
   "id": "54588c67",
   "metadata": {},
   "outputs": [
    {
     "name": "stdout",
     "output_type": "stream",
     "text": [
      "1.2.0\n",
      "0.12.1\n",
      "1.8.3\n"
     ]
    }
   ],
   "source": [
    "import os\n",
    "import requests\n",
    "from io import BytesIO\n",
    "from itertools import product\n",
    "from datetime import datetime\n",
    "\n",
    "# 데이터 처리\n",
    "import pandas as pd\n",
    "import numpy as np\n",
    "\n",
    "# 시각화\n",
    "import matplotlib as mpl\n",
    "import matplotlib.pyplot as plt\n",
    "import matplotlib.ticker as plticker\n",
    "import seaborn as sns\n",
    "\n",
    "# 분석\n",
    "import sklearn\n",
    "from sklearn.preprocessing import StandardScaler\n",
    "from sklearn.linear_model import Ridge, RidgeCV, Lasso, LassoCV\n",
    "import statsmodels.api as sm\n",
    "import pmdarima as pm  \n",
    "\n",
    "# statsmodels\n",
    "from statsmodels.graphics.tsaplots import plot_acf, plot_pacf\n",
    "from statsmodels.tsa.seasonal import STL\n",
    "from statsmodels.tsa.stattools import adfuller # 정상성 검정\n",
    "from statsmodels.tsa.arima_model import ARIMA\n",
    "\n",
    "import warnings\n",
    "warnings.filterwarnings( 'ignore' )\n",
    "\n",
    "print(pd.__version__)\n",
    "print(sm.__version__)\n",
    "print(pm.__version__)"
   ]
  },
  {
   "cell_type": "markdown",
   "id": "facde4dd",
   "metadata": {},
   "source": [
    "## 차량 수요 예측 데이터 로드 및 Train, Test Data 분류"
   ]
  },
  {
   "cell_type": "code",
   "execution_count": 23,
   "id": "508eba16",
   "metadata": {},
   "outputs": [
    {
     "name": "stdout",
     "output_type": "stream",
     "text": [
      "<class 'pandas.core.frame.DataFrame'>\n",
      "Index: 52 entries, 2021-04-01 to 2021-05-22\n",
      "Data columns (total 17 columns):\n",
      " #   Column             Non-Null Count  Dtype  \n",
      "---  ------             --------------  -----  \n",
      " 0   click_d_1          52 non-null     int64  \n",
      " 1   click_d_2          52 non-null     int64  \n",
      " 2   click_d_3          52 non-null     int64  \n",
      " 3   click_d_4          52 non-null     int64  \n",
      " 4   click_d_5          52 non-null     int64  \n",
      " 5   click_d_6          52 non-null     int64  \n",
      " 6   click_d_7          52 non-null     int64  \n",
      " 7   is_clean           52 non-null     int64  \n",
      " 8   avg_precipitation  52 non-null     float64\n",
      " 9   avg_temperature    52 non-null     float64\n",
      " 10  weekday_0          52 non-null     uint8  \n",
      " 11  weekday_1          52 non-null     uint8  \n",
      " 12  weekday_2          52 non-null     uint8  \n",
      " 13  weekday_3          52 non-null     uint8  \n",
      " 14  weekday_4          52 non-null     uint8  \n",
      " 15  weekday_5          52 non-null     uint8  \n",
      " 16  weekday_6          52 non-null     uint8  \n",
      "dtypes: float64(2), int64(8), uint8(7)\n",
      "memory usage: 4.8+ KB\n"
     ]
    }
   ],
   "source": [
    "# 파일 불러오기\n",
    "file_path_raws = os.getenv('HOME') + '/aiffel/demand_forecasting/data/raws.csv'\n",
    "df_raws = pd.read_csv(file_path_raws)\n",
    "\n",
    "# 설명 변수 테이블 설정\n",
    "_x_data = df_raws[['click_d_1', 'click_d_2', 'click_d_3', 'click_d_4', 'click_d_5', 'click_d_6', 'click_d_7', 'is_clean', 'avg_precipitation', 'avg_temperature', 'target_dates']]\n",
    "\n",
    "_x_weekday = pd.get_dummies(df_raws['weekday'], prefix='weekday', drop_first=False)\n",
    "\n",
    "_x_data = pd.concat([_x_data, _x_weekday], axis=1)\n",
    "\n",
    "_x_data.set_index(\"target_dates\", drop=True, inplace=True)\n",
    "_x_data = _x_data.sort_values('target_dates')\n",
    "\n",
    "# 예측 대상 데이터 설정\n",
    "target = df_raws[['op_rate_0d_all_cars', 'target_dates' ]]\n",
    "\n",
    "target.set_index(\"target_dates\", drop=True, inplace=True)\n",
    "target = target.sort_values('target_dates')\n",
    "\n",
    "# Train/Test 데이터셋 나누기\n",
    "_x_data_train = _x_data[_x_data.index<'2021-04-01']\n",
    "_x_data_test = _x_data[_x_data.index>='2021-04-01']\n",
    "target_train = target[target.index<'2021-04-01']\n",
    "target_test = target[target.index>='2021-04-01']\n",
    "\n",
    "x_train = _x_data_train\n",
    "x_test = _x_data_test\n",
    "y_train = target_train\n",
    "y_test = target_test\n"
   ]
  },
  {
   "cell_type": "markdown",
   "id": "6457ba48",
   "metadata": {},
   "source": [
    "## Grid search를 이용하여 최상의 파라미터 조합 찾기\n",
    "\n",
    "동적 회귀 모형을 선언하기 위해서는 (p, d, q) x (P, D, Q)(S) 파라미터를 설정해 주어야 합니다. 이 때 실제로 Grid search를 하여 가장 낮은 AIC를 가지는 파라미터 조합을 선택해요. Grid search는 파라미터가 가질 수 있는 선택지가 많아질수록 탐색 공간이 넓어져 탐색에 오랜 시간이 걸립니다. 예를 들어 모든 파라미터(p, d, q, P, D, Q 총 6가지)를 0과 2 사이(0 또는 1)에서 찾는다면, 탐색 공간은 \n",
    "2^6 = 64개가 되고 5분 정도 걸려요.\n",
    "\n",
    "itertools의 product()를 이용하여 최상의 파라미터 조합을 찾아 보세요."
   ]
  },
  {
   "cell_type": "code",
   "execution_count": 14,
   "id": "3f17d440",
   "metadata": {
    "scrolled": false
   },
   "outputs": [
    {
     "name": "stdout",
     "output_type": "stream",
     "text": [
      "Iter 1/64: SAPIMAX(0, 0, 0)x(0, 0, 0)(7), AIC = 867.3483846700258\n",
      "Iter 2/64: SAPIMAX(0, 0, 0)x(0, 0, 1)(7), AIC = -2232.0394978926456\n",
      "Iter 3/64: SAPIMAX(0, 0, 0)x(0, 1, 0)(7), AIC = 1000.9463850813165\n",
      "Iter 4/64: SAPIMAX(0, 0, 0)x(0, 1, 1)(7), AIC = -2156.50227111441\n",
      "Iter 5/64: SAPIMAX(0, 0, 0)x(1, 0, 0)(7), AIC = -2244.151968996891\n",
      "Iter 6/64: SAPIMAX(0, 0, 0)x(1, 0, 1)(7), AIC = -2245.725946960656\n",
      "Iter 7/64: SAPIMAX(0, 0, 0)x(1, 1, 0)(7), AIC = -2097.2816526313522\n",
      "Iter 8/64: SAPIMAX(0, 0, 0)x(1, 1, 1)(7), AIC = -2141.838830446514\n",
      "Iter 9/64: SAPIMAX(0, 0, 1)x(0, 0, 0)(7), AIC = -2326.25584582184\n",
      "Iter 10/64: SAPIMAX(0, 0, 1)x(0, 0, 1)(7), AIC = -2348.6084755709994\n",
      "Iter 11/64: SAPIMAX(0, 0, 1)x(0, 1, 0)(7), AIC = -2097.1096732343863\n",
      "Iter 12/64: SAPIMAX(0, 0, 1)x(0, 1, 1)(7), AIC = -2237.58497479407\n",
      "Iter 13/64: SAPIMAX(0, 0, 1)x(1, 0, 0)(7), AIC = -2352.47294264588\n",
      "Iter 14/64: SAPIMAX(0, 0, 1)x(1, 0, 1)(7), AIC = -2354.9173561396033\n",
      "Iter 15/64: SAPIMAX(0, 0, 1)x(1, 1, 0)(7), AIC = -2183.928351315443\n",
      "Iter 16/64: SAPIMAX(0, 0, 1)x(1, 1, 1)(7), AIC = -2224.972544302519\n",
      "Iter 17/64: SAPIMAX(0, 1, 0)x(0, 0, 0)(7), AIC = 828.3270365513139\n",
      "Iter 18/64: SAPIMAX(0, 1, 0)x(0, 0, 1)(7), AIC = -2230.460994347785\n",
      "Iter 19/64: SAPIMAX(0, 1, 0)x(0, 1, 0)(7), AIC = 1079.4878717660326\n",
      "Iter 20/64: SAPIMAX(0, 1, 0)x(0, 1, 1)(7), AIC = -2123.654899757995\n",
      "Iter 21/64: SAPIMAX(0, 1, 0)x(1, 0, 0)(7), AIC = -2231.0012112507743\n",
      "Iter 22/64: SAPIMAX(0, 1, 0)x(1, 0, 1)(7), AIC = -2229.2245994491623\n",
      "Iter 23/64: SAPIMAX(0, 1, 0)x(1, 1, 0)(7), AIC = -2026.7396797160964\n",
      "Iter 24/64: SAPIMAX(0, 1, 0)x(1, 1, 1)(7), AIC = -2100.783924702622\n",
      "Iter 25/64: SAPIMAX(0, 1, 1)x(0, 0, 0)(7), AIC = -2223.0651230074022\n",
      "Iter 26/64: SAPIMAX(0, 1, 1)x(0, 0, 1)(7), AIC = -2235.237690274266\n",
      "Iter 27/64: SAPIMAX(0, 1, 1)x(0, 1, 0)(7), AIC = -1928.3753765446643\n",
      "Iter 28/64: SAPIMAX(0, 1, 1)x(0, 1, 1)(7), AIC = -2098.050273167264\n",
      "Iter 29/64: SAPIMAX(0, 1, 1)x(1, 0, 0)(7), AIC = -2236.3139222857794\n",
      "Iter 30/64: SAPIMAX(0, 1, 1)x(1, 0, 1)(7), AIC = -2234.2591602331286\n",
      "Iter 31/64: SAPIMAX(0, 1, 1)x(1, 1, 0)(7), AIC = -2024.5088775712156\n",
      "Iter 32/64: SAPIMAX(0, 1, 1)x(1, 1, 1)(7), AIC = -2080.989540889248\n",
      "Iter 33/64: SAPIMAX(1, 0, 0)x(0, 0, 0)(7), AIC = -2328.2496306026487\n",
      "Iter 34/64: SAPIMAX(1, 0, 0)x(0, 0, 1)(7), AIC = -2349.300891335167\n",
      "Iter 35/64: SAPIMAX(1, 0, 0)x(0, 1, 0)(7), AIC = -2081.624971509177\n",
      "Iter 36/64: SAPIMAX(1, 0, 0)x(0, 1, 1)(7), AIC = -2222.2317117546227\n",
      "Iter 37/64: SAPIMAX(1, 0, 0)x(1, 0, 0)(7), AIC = -2348.8538235862934\n",
      "Iter 38/64: SAPIMAX(1, 0, 0)x(1, 0, 1)(7), AIC = -2351.5014772440736\n",
      "Iter 39/64: SAPIMAX(1, 0, 0)x(1, 1, 0)(7), AIC = -2167.978899907671\n",
      "Iter 40/64: SAPIMAX(1, 0, 0)x(1, 1, 1)(7), AIC = -2209.7008264689553\n",
      "Iter 41/64: SAPIMAX(1, 0, 1)x(0, 0, 0)(7), AIC = -2338.417973749617\n",
      "Iter 42/64: SAPIMAX(1, 0, 1)x(0, 0, 1)(7), AIC = -2361.0204476023528\n",
      "Iter 43/64: SAPIMAX(1, 0, 1)x(0, 1, 0)(7), AIC = -2093.2063290008246\n",
      "Iter 44/64: SAPIMAX(1, 0, 1)x(0, 1, 1)(7), AIC = -2234.1945651023516\n",
      "Iter 45/64: SAPIMAX(1, 0, 1)x(1, 0, 0)(7), AIC = -2364.039469933763\n",
      "Iter 46/64: SAPIMAX(1, 0, 1)x(1, 0, 1)(7), AIC = -2366.2483215650855\n",
      "Iter 47/64: SAPIMAX(1, 0, 1)x(1, 1, 0)(7), AIC = -2180.5632596705013\n",
      "Iter 48/64: SAPIMAX(1, 0, 1)x(1, 1, 1)(7), AIC = -2221.5688376700355\n",
      "Iter 49/64: SAPIMAX(1, 1, 0)x(0, 0, 0)(7), AIC = -2219.5638052185295\n",
      "Iter 50/64: SAPIMAX(1, 1, 0)x(0, 0, 1)(7), AIC = -2231.498040106594\n",
      "Iter 51/64: SAPIMAX(1, 1, 0)x(0, 1, 0)(7), AIC = -1924.593821452223\n",
      "Iter 52/64: SAPIMAX(1, 1, 0)x(0, 1, 1)(7), AIC = -2091.9025540923885\n",
      "Iter 53/64: SAPIMAX(1, 1, 0)x(1, 0, 0)(7), AIC = -2232.493481239304\n",
      "Iter 54/64: SAPIMAX(1, 1, 0)x(1, 0, 1)(7), AIC = -2230.4398898934824\n",
      "Iter 55/64: SAPIMAX(1, 1, 0)x(1, 1, 0)(7), AIC = -2018.8485565378387\n",
      "Iter 56/64: SAPIMAX(1, 1, 0)x(1, 1, 1)(7), AIC = -2074.796158782781\n",
      "Iter 57/64: SAPIMAX(1, 1, 1)x(0, 0, 0)(7), AIC = -2263.6798573253195\n",
      "Iter 58/64: SAPIMAX(1, 1, 1)x(0, 0, 1)(7), AIC = -2274.1904440029093\n",
      "Iter 59/64: SAPIMAX(1, 1, 1)x(0, 1, 0)(7), AIC = -1969.9126481379772\n",
      "Iter 60/64: SAPIMAX(1, 1, 1)x(0, 1, 1)(7), AIC = -2134.961386901155\n",
      "Iter 61/64: SAPIMAX(1, 1, 1)x(1, 0, 0)(7), AIC = -2275.32662592463\n",
      "Iter 62/64: SAPIMAX(1, 1, 1)x(1, 0, 1)(7), AIC = -2273.143762168899\n",
      "Iter 63/64: SAPIMAX(1, 1, 1)x(1, 1, 0)(7), AIC = -2063.5276813605446\n",
      "Iter 64/64: SAPIMAX(1, 1, 1)x(1, 1, 1)(7), AIC = -2118.2677724396326\n",
      "---------------------------------------------------------------\n",
      "Best Iter : SAPIMAX(1, 0, 1)x(1, 0, 1)(7), AIC = -2366.2483215650855\n"
     ]
    }
   ],
   "source": [
    "# 모수\n",
    "p = range(0, 2)\n",
    "q = range(0, 2)\n",
    "d = range(0, 2)\n",
    "P = range(0, 2)\n",
    "Q = range(0, 2)\n",
    "D = range(0, 2)\n",
    "\n",
    "# 초기화\n",
    "best_AIC = float(\"inf\")\n",
    "best_model = sm.tsa.SARIMAX(endog=y_train, exog=x_train, order=(0, 0, 0), seasonal_order=(0, 0, 0, 7))\n",
    "best_values = []\n",
    "iter_cnt = 0\n",
    "\n",
    "# for 문으로 최소 AIC 찾기 (Grid Search)\n",
    "\n",
    "hyper_param = product(p, d, q, P, D, Q)\n",
    "\n",
    "for param in hyper_param:\n",
    "    p_value, d_value, q_value, P_value, D_value, Q_value = param\n",
    "    \n",
    "    # Fit a SARIMA model\n",
    "    model = sm.tsa.SARIMAX(endog=y_train, exog=x_train,\n",
    "                            order=(p_value, d_value, q_value),\n",
    "                            seasonal_order=(P_value, D_value, Q_value, 7))\n",
    "    results = model.fit(disp=False)\n",
    "\n",
    "    # AIC 계산하기\n",
    "    aic = results.aic\n",
    "\n",
    "    # Best Model 선정 (AIC 값이 제일 낮은게 Best Model)\n",
    "    if aic < best_AIC:\n",
    "        best_AIC = aic\n",
    "        best_model = model\n",
    "        best_values =[p_value, d_value, q_value, P_value, D_value, Q_value, 7]\n",
    "        \n",
    "    # 예시와 같은 로그 출력하기\n",
    "    iter_cnt += 1\n",
    "    print(f'Iter {iter_cnt}/64: SAPIMAX({p_value}, {d_value}, {q_value})x({P_value}, {D_value}, {Q_value})(7), AIC = {aic}')\n",
    "\n",
    "# Best Model\n",
    "print('---------------------------------------------------------------')\n",
    "print(f'Best Iter : SAPIMAX({best_values[0]}, {best_values[1]}, {best_values[2]})x({best_values[3]}, {best_values[4]}, {best_values[5]})(7), AIC = {best_AIC}')"
   ]
  },
  {
   "cell_type": "markdown",
   "id": "23063e03",
   "metadata": {},
   "source": [
    "## 모형 구조 확인\n",
    "model.summary()를 사용해 모형의 정보를 출력"
   ]
  },
  {
   "cell_type": "code",
   "execution_count": 5,
   "id": "7beb94cb",
   "metadata": {},
   "outputs": [
    {
     "name": "stdout",
     "output_type": "stream",
     "text": [
      "                                     SARIMAX Results                                     \n",
      "=========================================================================================\n",
      "Dep. Variable:               op_rate_0d_all_cars   No. Observations:                  571\n",
      "Model:             SARIMAX(1, 0, 1)x(1, 0, 1, 7)   Log Likelihood                1205.124\n",
      "Date:                           Fri, 01 Sep 2023   AIC                          -2366.248\n",
      "Time:                                   05:20:30   BIC                          -2270.606\n",
      "Sample:                               09-08-2019   HQIC                         -2328.934\n",
      "                                    - 03-31-2021                                         \n",
      "Covariance Type:                             opg                                         \n",
      "=====================================================================================\n",
      "                        coef    std err          z      P>|z|      [0.025      0.975]\n",
      "-------------------------------------------------------------------------------------\n",
      "click_d_1          9.342e-06   4.48e-07     20.837      0.000    8.46e-06    1.02e-05\n",
      "click_d_2         -3.977e-06   7.32e-07     -5.432      0.000   -5.41e-06   -2.54e-06\n",
      "click_d_3         -2.633e-06   1.27e-06     -2.066      0.039   -5.13e-06   -1.36e-07\n",
      "click_d_4          1.892e-06   1.83e-06      1.034      0.301   -1.69e-06    5.48e-06\n",
      "click_d_5           -1.1e-06   2.31e-06     -0.476      0.634   -5.63e-06    3.43e-06\n",
      "click_d_6          7.434e-06   3.48e-06      2.136      0.033    6.12e-07    1.43e-05\n",
      "click_d_7           -1.2e-06   3.77e-06     -0.319      0.750   -8.59e-06    6.18e-06\n",
      "is_clean             -0.0042      0.004     -1.090      0.276      -0.012       0.003\n",
      "avg_precipitation -4.644e-05   1.38e-05     -3.365      0.001   -7.35e-05   -1.94e-05\n",
      "avg_temperature      -0.0004      0.000     -1.079      0.281      -0.001       0.000\n",
      "weekday_0             0.2213      0.010     21.281      0.000       0.201       0.242\n",
      "weekday_1             0.2283      0.009     24.995      0.000       0.210       0.246\n",
      "weekday_2             0.2150      0.011     20.352      0.000       0.194       0.236\n",
      "weekday_3             0.2318      0.011     22.035      0.000       0.211       0.252\n",
      "weekday_4             0.2205      0.010     21.931      0.000       0.201       0.240\n",
      "weekday_5             0.2345      0.010     22.804      0.000       0.214       0.255\n",
      "weekday_6             0.2857      0.010     29.839      0.000       0.267       0.304\n",
      "ar.L1                 0.2179      0.081      2.702      0.007       0.060       0.376\n",
      "ma.L1                 0.3267      0.076      4.311      0.000       0.178       0.475\n",
      "ar.S.L7               0.4734      0.172      2.753      0.006       0.136       0.810\n",
      "ma.S.L7              -0.2208      0.186     -1.186      0.236      -0.586       0.144\n",
      "sigma2                0.0009   3.96e-05     22.860      0.000       0.001       0.001\n",
      "===================================================================================\n",
      "Ljung-Box (L1) (Q):                   0.83   Jarque-Bera (JB):              1542.62\n",
      "Prob(Q):                              0.36   Prob(JB):                         0.00\n",
      "Heteroskedasticity (H):               1.21   Skew:                             1.20\n",
      "Prob(H) (two-sided):                  0.19   Kurtosis:                        10.69\n",
      "===================================================================================\n",
      "\n",
      "Warnings:\n",
      "[1] Covariance matrix calculated using the outer product of gradients (complex-step).\n"
     ]
    }
   ],
   "source": [
    "# Best Iter : SAPIMAX(1, 0, 1)x(1, 0, 1)(7)\n",
    "\n",
    "model = sm.tsa.SARIMAX(endog=y_train, exog=x_train,\n",
    "                            order=(1, 0, 1),\n",
    "                            seasonal_order=(1, 0, 1, 7))\n",
    "result = model.fit(disp=False)\n",
    "print(result.summary())"
   ]
  },
  {
   "cell_type": "markdown",
   "id": "38cc60bb",
   "metadata": {},
   "source": [
    "## 차량 수요 예측\n",
    "\n",
    "예측값과 예측값의 신뢰구간을 얻을 수 있는 get_forecast(steps=n)을 사용해 보세요. 학습 데이터 다음부터 지정한 steps만큼 예측할 수 있어요. RMSE와 시각화를 통해 모형의 예측 정확도를 확인해 보세요. RMSE을 구할 때는 예측값에 .predicted_mean을 사용해보세요. 시각화할 때는 이전 스텝에서와 같이 마지막 50개의 데이터만 사용하세요."
   ]
  },
  {
   "cell_type": "code",
   "execution_count": 44,
   "id": "415cd9af",
   "metadata": {
    "scrolled": false
   },
   "outputs": [
    {
     "name": "stdout",
     "output_type": "stream",
     "text": [
      "Test RMSE:  0.02264\n"
     ]
    }
   ],
   "source": [
    "# RMSE\n",
    "forecast = result.get_forecast(steps=52, exog=x_test)\n",
    "forecast_values = forecast.predicted_mean\n",
    "rmse = np.sqrt(sklearn.metrics.mean_squared_error(y_test, forecast_values))\n",
    "\n",
    "print(f'Test RMSE: {rmse: .5f}')"
   ]
  },
  {
   "cell_type": "code",
   "execution_count": 63,
   "id": "18a545b1",
   "metadata": {
    "scrolled": false
   },
   "outputs": [
    {
     "data": {
      "image/png": "[encoded data removed]",
      "text/plain": [
       "<Figure size 864x576 with 1 Axes>"
      ]
     },
     "metadata": {
      "needs_background": "light"
     },
     "output_type": "display_data"
    }
   ],
   "source": [
    "# 시각화\n",
    "fig, ax = plt.subplots(nrows=1, ncols=1, figsize=(12, 8))\n",
    "plt.xticks(rotation=45)\n",
    "loc = plticker.MultipleLocator(base=7.0) \n",
    "ax.xaxis.set_major_locator(loc)\n",
    "confidence_interval = forecast.conf_int()\n",
    "\n",
    "plt.plot(y_train[-50:], alpha=0.5, color='black', label='training')\n",
    "plt.plot(y_test, alpha=0.5, color='red', label='actual operation rate')\n",
    "plt.plot(y_test.index.values, forecast_values, alpha=0.4, color='blue', label='predicted operation rate')\n",
    "plt.fill_between(y_test.index.values, confidence_interval.iloc[:, 0], confidence_interval.iloc[:, 1], alpha=0.1, color='b', label='confidence interval')\n",
    "plt.legend()\n",
    "plt.show()"
   ]
  },
  {
   "cell_type": "markdown",
   "id": "538dbc7f",
   "metadata": {},
   "source": [
    "## 다른 모형 사용하기\n",
    "\n",
    "지금까지 배운 모형이 아닌 다른 모형을 사용해 차량 수요 예측을 해보세요. 트리 기반 머신러닝 모형(LGBM, Gradient Boosting, XBG, Random Forest 등)을 사용해 보세요. 3개 이상의 모형을 사용해 차량의 수요를 예측해 보세요."
   ]
  },
  {
   "cell_type": "code",
   "execution_count": null,
   "id": "562f732c",
   "metadata": {},
   "outputs": [],
   "source": []
  },
  {
   "cell_type": "code",
   "execution_count": null,
   "id": "82299dbd",
   "metadata": {},
   "outputs": [],
   "source": []
  },
  {
   "cell_type": "code",
   "execution_count": null,
   "id": "3727c047",
   "metadata": {},
   "outputs": [],
   "source": []
  },
  {
   "cell_type": "markdown",
   "id": "038cd091",
   "metadata": {},
   "source": [
    "## 결과 비교\n",
    "\n",
    "동적 회귀 모형과 여러분들이 사용한 모형들의 예측 정확도를 RMSE를 사용하여 비교해 봅시다. 이전 스텝에서 다루었던 다른 모형들의 예측 정확도를 포함시켜도 좋아요. 어떤 모형이 차량 수요를 가장 잘 예측할까요?"
   ]
  },
  {
   "cell_type": "code",
   "execution_count": null,
   "id": "246fdf44",
   "metadata": {},
   "outputs": [],
   "source": []
  },
  {
   "cell_type": "markdown",
   "id": "9f1c48ca",
   "metadata": {},
   "source": [
    "# 회고\n",
    "---"
   ]
  },
  {
   "cell_type": "markdown",
   "id": "7d414423",
   "metadata": {},
   "source": [
    "### 프로젝트 목표"
   ]
  },
  {
   "cell_type": "markdown",
   "id": "b18ef6ec",
   "metadata": {},
   "source": [
    "- 데이터의 시계열 패턴에 따라 다양한 시계열 모형(ARIMA 모형, SARIMA 모형 등)을 사용하여 예측 해보기"
   ]
  },
  {
   "cell_type": "markdown",
   "id": "c28815b8",
   "metadata": {},
   "source": [
    "### 성과 및 결과"
   ]
  },
  {
   "cell_type": "markdown",
   "id": "8fd68b79",
   "metadata": {},
   "source": [
    "- Grid search를 이용하여 파라미터를 찾고 이를 이용하여 RMSE 및 시각화를 진행하였다. 하지만 그외의 다른 모형을 사용하여 차량 수요 예측 모형을 만들어 보는것에 대하여서는 실패하였다.."
   ]
  },
  {
   "cell_type": "markdown",
   "id": "d598e12b",
   "metadata": {},
   "source": [
    "### 배운 점"
   ]
  },
  {
   "cell_type": "markdown",
   "id": "622409b8",
   "metadata": {},
   "source": [
    "- 시계열 데이터를 처음 접하였고 관련 기초가 되는 지식들을 배울 수 있었으며 관련 라이브러리를 사용하여 ARIMA, SARIMA 모형을 만들어 수요 예측모델을 만드는 것을 배울 수 있었다."
   ]
  },
  {
   "cell_type": "markdown",
   "id": "7dfd2ce3",
   "metadata": {},
   "source": [
    "### 개선할 점"
   ]
  },
  {
   "cell_type": "markdown",
   "id": "fca72417",
   "metadata": {},
   "source": [
    "- 노드에서 배운 이외의 다른 모형에 대하여 적용시키지 못해서 다른 모형에 대한 이해도를 높이고 수요예측이 가능할 수 있도록 학습해야 되겠습니다."
   ]
  },
  {
   "cell_type": "markdown",
   "id": "8361cfa6",
   "metadata": {},
   "source": [
    "### 결론"
   ]
  },
  {
   "cell_type": "markdown",
   "id": "f3fa1a52",
   "metadata": {},
   "source": [
    "- 시계열모형인 ARIMA 모형, SARIMA 모형에 대해서 배우고 이를 가지고 테스트 결과물을 만들어 냈지만 다른 모형을 이용한 수요 예측 모형에 대하여 만들지 못하였다. 이외의 모형들도 학습하여 만들어 볼 수 있도록 해야겠습니다."
   ]
  },
  {
   "cell_type": "code",
   "execution_count": null,
   "id": "c6185c14",
   "metadata": {},
   "outputs": [],
   "source": []
  }
 ],
 "metadata": {
  "kernelspec": {
   "display_name": "Python 3 (ipykernel)",
   "language": "python",
   "name": "python3"
  },
  "language_info": {
   "codemirror_mode": {
    "name": "ipython",
    "version": 3
   },
   "file_extension": ".py",
   "mimetype": "text/x-python",
   "name": "python",
   "nbconvert_exporter": "python",
   "pygments_lexer": "ipython3",
   "version": "3.9.7"
  }
 },
 "nbformat": 4,
 "nbformat_minor": 5
}
